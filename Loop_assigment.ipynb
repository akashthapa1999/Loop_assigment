{
 "cells": [
  {
   "cell_type": "markdown",
   "id": "9bce1355-77aa-454a-9bf4-7a6d92d4a154",
   "metadata": {},
   "source": [
    "# Explain with an example each when to use a for loop and a while loop.\n"
   ]
  },
  {
   "cell_type": "raw",
   "id": "a7fb5d0c-715d-4154-ba95-67d6189be42a",
   "metadata": {},
   "source": [
    "for Loop: It is used when the number of iterations is known. In case of no condition, the loop is repeated infinite times. Initialization is not repeated. Statement of Iteration is written after running."
   ]
  },
  {
   "cell_type": "code",
   "execution_count": 23,
   "id": "e4a40331-0248-4d4f-9fe0-1f52bf77c743",
   "metadata": {},
   "outputs": [
    {
     "name": "stdout",
     "output_type": "stream",
     "text": [
      "1\n",
      "2\n",
      "3\n",
      "4\n",
      "5\n",
      "6\n",
      "7\n",
      "8\n",
      "9\n",
      "10\n"
     ]
    }
   ],
   "source": [
    "\"\"\" Example of for loop - \"\"\"\n",
    "for i in range(1,11):\n",
    "    print(i)\n"
   ]
  },
  {
   "cell_type": "raw",
   "id": "72d7c96b-ec54-4471-8508-a0e628610ad9",
   "metadata": {},
   "source": [
    "While Loop: It is used when the number of iterations is not known. In case of no condition, an error will be shown. Initialization is repeated if carried out during the stage of checking."
   ]
  },
  {
   "cell_type": "code",
   "execution_count": 24,
   "id": "8153a907-4fb6-4887-aacb-9d925f4a033a",
   "metadata": {},
   "outputs": [
    {
     "name": "stdin",
     "output_type": "stream",
     "text": [
      "Enter the number 76\n",
      "Enter the number 56\n"
     ]
    },
    {
     "name": "stdout",
     "output_type": "stream",
     "text": [
      "76 is grater then 56\n"
     ]
    }
   ],
   "source": [
    "\"\"\" Example of for loop\"\"\"\n",
    "a = int(input(\"Enter the number\"))\n",
    "b = int(input(\"Enter the number\"))\n",
    "while (a, b):\n",
    "    if a > b:\n",
    "        print( a, \"is grater then\", b)\n",
    "        break\n",
    "        \n",
    "    elif a < b:\n",
    "        print( a , \"is smaller then\", b)\n",
    "        break\n",
    "        \n",
    "    elif a == b :\n",
    "        print( a, \"is equal to \", b)\n",
    "        break"
   ]
  },
  {
   "cell_type": "markdown",
   "id": "24981bd8-9628-4e61-a5e8-952ae26d63c3",
   "metadata": {
    "tags": []
   },
   "source": [
    "# Write a python program to print the sum and product of the first 10 natural numbers using for and while loop."
   ]
  },
  {
   "cell_type": "code",
   "execution_count": 25,
   "id": "070ebcba-620b-46c8-a612-489e221398bd",
   "metadata": {},
   "outputs": [
    {
     "name": "stdout",
     "output_type": "stream",
     "text": [
      "1\n",
      "2\n",
      "3\n",
      "4\n",
      "5\n",
      "6\n",
      "7\n",
      "8\n",
      "9\n",
      "10\n"
     ]
    }
   ],
   "source": [
    "# for loop\n",
    "for i in range(1,11):\n",
    "    print(i)\n",
    "\n"
   ]
  },
  {
   "cell_type": "code",
   "execution_count": 26,
   "id": "7f95fd7b-6bd6-4984-83fd-b7bfbd73d569",
   "metadata": {},
   "outputs": [
    {
     "name": "stdout",
     "output_type": "stream",
     "text": [
      "1\n",
      "2\n",
      "3\n",
      "4\n",
      "5\n",
      "6\n",
      "7\n",
      "8\n",
      "9\n",
      "10\n"
     ]
    }
   ],
   "source": [
    "# While loop\n",
    "a = 1\n",
    "while a <= 10:\n",
    "    print(a)\n",
    "    a = a+1\n",
    "\n"
   ]
  },
  {
   "cell_type": "markdown",
   "id": "e0ad617c-486c-4d88-abac-45e5c12de1ee",
   "metadata": {},
   "source": [
    "# Q4. Create a list of numbers from 1 to 100. Use for loop and while loop to calculate the cube of each number and if the cube of that number is divisible by 4 or 5 then append that number in a list and print that list."
   ]
  },
  {
   "cell_type": "code",
   "execution_count": 27,
   "id": "058baaaa-6d78-40fc-9d67-547a13392ebf",
   "metadata": {},
   "outputs": [
    {
     "name": "stdout",
     "output_type": "stream",
     "text": [
      "Cubes divisible by 4 or 5 (for loop): [8, 64, 125, 216, 512, 1000, 1728, 2744, 3375, 4096, 5832, 8000, 10648, 13824, 15625, 17576, 21952, 27000, 32768, 39304, 42875, 46656, 54872, 64000, 74088, 85184, 91125, 97336, 110592, 125000, 140608, 157464, 166375, 175616, 195112, 216000, 238328, 262144, 274625, 287496, 314432, 343000, 373248, 405224, 421875, 438976, 474552, 512000, 551368, 592704, 614125, 636056, 681472, 729000, 778688, 830584, 857375, 884736, 941192, 1000000]\n"
     ]
    }
   ],
   "source": [
    "# Using for loop\n",
    "\n",
    "cubes = []\n",
    "for i in range(1, 101):\n",
    "    cube = i**3\n",
    "    if cube % 4 == 0 or cube % 5 == 0:\n",
    "        cubes.append(cube)\n",
    "print(\"Cubes divisible by 4 or 5 (for loop):\", cubes)\n",
    "\n",
    "\n"
   ]
  },
  {
   "cell_type": "code",
   "execution_count": 28,
   "id": "59d3a1b6-fe0b-4cfe-8a1a-59d5c76229b6",
   "metadata": {},
   "outputs": [
    {
     "name": "stdout",
     "output_type": "stream",
     "text": [
      "Cubes divisible by 4 or 5 (while loop): [8, 64, 125, 216, 512, 1000, 1728, 2744, 3375, 4096, 5832, 8000, 10648, 13824, 15625, 17576, 21952, 27000, 32768, 39304, 42875, 46656, 54872, 64000, 74088, 85184, 91125, 97336, 110592, 125000, 140608, 157464, 166375, 175616, 195112, 216000, 238328, 262144, 274625, 287496, 314432, 343000, 373248, 405224, 421875, 438976, 474552, 512000, 551368, 592704, 614125, 636056, 681472, 729000, 778688, 830584, 857375, 884736, 941192, 1000000]\n"
     ]
    }
   ],
   "source": [
    "# Using while loop\n",
    "\n",
    "cubes = []\n",
    "i = 1\n",
    "while i <= 100:\n",
    "    cube = i**3\n",
    "    if cube % 4 == 0 or cube % 5 == 0:\n",
    "        cubes.append(cube)\n",
    "    i = i + 1\n",
    "print(\"Cubes divisible by 4 or 5 (while loop):\", cubes)\n"
   ]
  },
  {
   "cell_type": "code",
   "execution_count": 7,
   "id": "eb920f20-0031-4ba9-9fc1-a609cff341ac",
   "metadata": {},
   "outputs": [],
   "source": [
    "# Write a program to filter count vowels in the below-given string.\n",
    "string = \"I want to become a data scientist\"\n"
   ]
  },
  {
   "cell_type": "code",
   "execution_count": 29,
   "id": "ce8600eb-d5eb-4afd-a3ed-d1c817e64627",
   "metadata": {},
   "outputs": [
    {
     "name": "stdout",
     "output_type": "stream",
     "text": [
      "Number of vowels is:\n",
      " 12\n"
     ]
    }
   ],
   "source": [
    "string = \"I want to become a data scientist\"\n",
    "vowels=0\n",
    "for i in string:\n",
    "      if(i=='a' or i=='e' or i=='i' or i=='o' or i=='u' or i=='A' or i=='E' or i=='I' or i=='O' or i=='U'):\n",
    "            vowels=vowels+1\n",
    "print(\"Number of vowels is:\\n\", vowels )\n"
   ]
  },
  {
   "cell_type": "code",
   "execution_count": null,
   "id": "62f523ff-6e37-4125-92ec-db4fb188d92e",
   "metadata": {},
   "outputs": [],
   "source": []
  }
 ],
 "metadata": {
  "kernelspec": {
   "display_name": "Python 3 (ipykernel)",
   "language": "python",
   "name": "python3"
  },
  "language_info": {
   "codemirror_mode": {
    "name": "ipython",
    "version": 3
   },
   "file_extension": ".py",
   "mimetype": "text/x-python",
   "name": "python",
   "nbconvert_exporter": "python",
   "pygments_lexer": "ipython3",
   "version": "3.10.8"
  }
 },
 "nbformat": 4,
 "nbformat_minor": 5
}
